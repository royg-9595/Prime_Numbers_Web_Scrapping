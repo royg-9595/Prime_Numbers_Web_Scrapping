{
 "cells": [
  {
   "cell_type": "code",
   "execution_count": 86,
   "id": "3764008b-8a62-4d2c-8770-284c0ec8e25c",
   "metadata": {},
   "outputs": [],
   "source": [
    "from selenium import webdriver\n",
    "import time"
   ]
  },
  {
   "cell_type": "code",
   "execution_count": 87,
   "id": "980dc3c3-5e80-4509-909b-da49358f89c8",
   "metadata": {},
   "outputs": [],
   "source": [
    "driver = webdriver.Edge()"
   ]
  },
  {
   "cell_type": "code",
   "execution_count": 90,
   "id": "46d090fc-a706-4ad1-852b-e2b0694b1082",
   "metadata": {},
   "outputs": [
    {
     "name": "stdout",
     "output_type": "stream",
     "text": [
      "Project :- 1\n",
      "Name M/S. MANCHANDA AND MANCHANDA BUILDERS PRIVATE LIMITED\n",
      "PAN No. AAACM0825C \n",
      "GSTIN No. GSTN01234567891\n",
      "Permanent Address HS-24, KAILASH COLONY MARKET, South Delhi, Delhi (110048) \n",
      "\n",
      "\n",
      "Project :- 2\n",
      "Name MANAVINDER SINGH\n",
      "PAN No. ACLPS2284H \n",
      "GSTIN No. -NA-\n",
      "Permanent Address Villette Kothi, Khalini, Shimla, Khalini, Shimla, Himachal Pradesh (171002) \n",
      "\n",
      "\n",
      "Project :- 3\n",
      "Name VERENDER KUMAR & MINAKSHI SHARMA\n",
      "PAN No. ASTPK6959M \n",
      "GSTIN No. -NA-\n",
      "Permanent Address Ward No.5 Nagar Panchayat Gagret, TEHSIL GHANARI ,GAGRET KHAS (140), Una, Himachal Pradesh (177201)\n",
      "\n",
      "\n",
      "Project :- 4\n",
      "Name UMA BAGOLIA\n",
      "PAN No. AFDPB7079J \n",
      "GSTIN No. -NA-\n",
      "Permanent Address SCO 222-223,3rd Floor,, Sector 34-A, Chandigarh, Chandigarh (160022) \n",
      "\n",
      "\n",
      "Project :- 5\n",
      "Name DAKSHAA INFRABUILD PRIVATE LIMITED\n",
      "PAN No. AACCD4272A \n",
      "GSTIN No. GSTIN0123456789\n",
      "Permanent Address 337, Lal Jyoti Apartment, Sector-9, Rohini, New Delhi, Delhi (110085) \n",
      "\n",
      "\n",
      "Project :- 6\n",
      "Name M/S. JANTA LAND PROMOTERS PVT. LTD.\n",
      "PAN No. AABCJ3450D \n",
      "GSTIN No. GSTIN0123456789\n",
      "Permanent Address SCO39-42,SECTOR -82, SAS NAGAR MOHALI, Mohali, Punjab (140306) \n",
      "\n",
      "\n",
      "Project :- 7\n",
      "Name RAVINDER KUMAR CHAUDHRY\n",
      "PAN No. AASPC1011B \n",
      "GSTIN No. -NA-\n",
      "Permanent Address House No. 93, Sector-12, Panchkula, Haryana (134112) \n",
      "\n",
      "\n",
      "Project :- 8\n",
      "Name M/S. GUPTA PROPERTY DEVELOPERS PVT. LTD.\n",
      "PAN No. AABCG8850C \n",
      "GSTIN No. GSTIN0123456789\n",
      "Permanent Address 427, Behra Enclave, Paschim Vihar, South Delhi, Delhi (110087) \n",
      "\n",
      "\n"
     ]
    }
   ],
   "source": [
    "for i in range(1,9):\n",
    "    driver.get('https://hprera.nic.in/PublicDashboard')\n",
    "    time.sleep(10)\n",
    "    searchposts=driver.find_element(\"xpath\",'//*[@id=\"reg-Projects\"]/div/div/div['+str(i)+']/div/div/a')\n",
    "    searchposts.click()\n",
    "    time.sleep(5)\n",
    "    table=driver.find_element(\"xpath\",'//*[@id=\"project-menu-html\"]/div[2]/div[1]/div/table/tbody')\n",
    "    table=table.text\n",
    "    \n",
    "    print(\"Project :-\",i)\n",
    "    \n",
    "    #Name\n",
    "    name=driver.find_element(\"xpath\",'//*[@id=\"project-menu-html\"]/div[2]/div[1]/div/table/tbody/tr[1]')\n",
    "    print(name.text.strip())\n",
    "    \n",
    "    #PAN\n",
    "    s1=table.find(\"PAN No.\")\n",
    "    print(table[s1:s1+19])\n",
    "    \n",
    "    #Gstin\n",
    "    num=table.find('GSTIN')\n",
    "    samp=table[num+10:num+14]\n",
    "    if samp==\"GSTN\" or samp==\"GSTI\" :\n",
    "        print(table[num:num+25])\n",
    "    else:\n",
    "        print(\"GSTIN No. -NA-\")\n",
    "        \n",
    "    #Permanent adress\n",
    "    samp1=table.find(\"Permanent Address\")\n",
    "    samp2= table[samp1:].find(\"Address Proof\")\n",
    "    if samp2!=-1:\n",
    "        print(table[samp1:samp1+samp2])\n",
    "    else:\n",
    "        print(table[samp1:])\n",
    "\n",
    "    print(\"\\n\")"
   ]
  }
 ],
 "metadata": {
  "kernelspec": {
   "display_name": "Python 3 (ipykernel)",
   "language": "python",
   "name": "python3"
  },
  "language_info": {
   "codemirror_mode": {
    "name": "ipython",
    "version": 3
   },
   "file_extension": ".py",
   "mimetype": "text/x-python",
   "name": "python",
   "nbconvert_exporter": "python",
   "pygments_lexer": "ipython3",
   "version": "3.12.1"
  }
 },
 "nbformat": 4,
 "nbformat_minor": 5
}
